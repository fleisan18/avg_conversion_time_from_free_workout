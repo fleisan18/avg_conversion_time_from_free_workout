{
 "cells": [
  {
   "cell_type": "markdown",
   "metadata": {
    "id": "eRcrxe2N_fq5"
   },
   "source": [
    "Сегодня мы аналитики популярной сети фитнес-клубов, которая предлагает несколько видов тренировок.\n",
    "\n",
    "Первая тренировка в наших клубах всегда бесплатная.\n",
    "\n",
    "- У нас есть данные об оплатах тренировок — **payments.xlsx**\n",
    "- У нас есть данные о посещении тренировок — **workouts.csv**\n",
    "- У нас есть данные о членах клуба — **users.xlsx**\n"
   ]
  },
  {
   "cell_type": "code",
   "execution_count": 1,
   "metadata": {
    "id": "7Du3HoBB_fq6"
   },
   "outputs": [],
   "source": [
    "import pandas as pd # импортируем Pandas"
   ]
  },
  {
   "cell_type": "code",
   "execution_count": 2,
   "metadata": {
    "id": "A-O6l6oa_fq7",
    "outputId": "7e14364f-ded4-4c39-cf8c-7ca224ce17a8"
   },
   "outputs": [
    {
     "data": {
      "text/html": [
       "<div>\n",
       "<style scoped>\n",
       "    .dataframe tbody tr th:only-of-type {\n",
       "        vertical-align: middle;\n",
       "    }\n",
       "\n",
       "    .dataframe tbody tr th {\n",
       "        vertical-align: top;\n",
       "    }\n",
       "\n",
       "    .dataframe thead th {\n",
       "        text-align: right;\n",
       "    }\n",
       "</style>\n",
       "<table border=\"1\" class=\"dataframe\">\n",
       "  <thead>\n",
       "    <tr style=\"text-align: right;\">\n",
       "      <th></th>\n",
       "      <th>workout_id</th>\n",
       "      <th>cost</th>\n",
       "      <th>start_at</th>\n",
       "      <th>status</th>\n",
       "      <th>workout_schedule_type</th>\n",
       "      <th>client_id</th>\n",
       "      <th>client_status</th>\n",
       "      <th>workout_type</th>\n",
       "      <th>trainer_department</th>\n",
       "      <th>trainer_id</th>\n",
       "    </tr>\n",
       "  </thead>\n",
       "  <tbody>\n",
       "    <tr>\n",
       "      <th>0</th>\n",
       "      <td>30793909</td>\n",
       "      <td>NaN</td>\n",
       "      <td>2020-11-13 12:45</td>\n",
       "      <td>success</td>\n",
       "      <td>trial</td>\n",
       "      <td>22034</td>\n",
       "      <td>NaN</td>\n",
       "      <td>general</td>\n",
       "      <td>Sales</td>\n",
       "      <td>10722051</td>\n",
       "    </tr>\n",
       "    <tr>\n",
       "      <th>1</th>\n",
       "      <td>31123309</td>\n",
       "      <td>750.0</td>\n",
       "      <td>2020-11-21 13:00</td>\n",
       "      <td>success</td>\n",
       "      <td>regular</td>\n",
       "      <td>22034</td>\n",
       "      <td>new</td>\n",
       "      <td>general</td>\n",
       "      <td>Spartacus</td>\n",
       "      <td>940642</td>\n",
       "    </tr>\n",
       "    <tr>\n",
       "      <th>2</th>\n",
       "      <td>31412167</td>\n",
       "      <td>750.0</td>\n",
       "      <td>2020-11-28 13:00</td>\n",
       "      <td>success</td>\n",
       "      <td>regular</td>\n",
       "      <td>22034</td>\n",
       "      <td>new</td>\n",
       "      <td>general</td>\n",
       "      <td>Spartacus</td>\n",
       "      <td>940642</td>\n",
       "    </tr>\n",
       "    <tr>\n",
       "      <th>3</th>\n",
       "      <td>31703605</td>\n",
       "      <td>750.0</td>\n",
       "      <td>2020-12-05 13:00</td>\n",
       "      <td>success</td>\n",
       "      <td>regular</td>\n",
       "      <td>22034</td>\n",
       "      <td>active</td>\n",
       "      <td>general</td>\n",
       "      <td>Spartacus</td>\n",
       "      <td>940642</td>\n",
       "    </tr>\n",
       "    <tr>\n",
       "      <th>4</th>\n",
       "      <td>26904500</td>\n",
       "      <td>NaN</td>\n",
       "      <td>2020-08-06 18:20</td>\n",
       "      <td>success</td>\n",
       "      <td>trial</td>\n",
       "      <td>88101</td>\n",
       "      <td>NaN</td>\n",
       "      <td>general</td>\n",
       "      <td>Sales</td>\n",
       "      <td>3826530</td>\n",
       "    </tr>\n",
       "    <tr>\n",
       "      <th>...</th>\n",
       "      <td>...</td>\n",
       "      <td>...</td>\n",
       "      <td>...</td>\n",
       "      <td>...</td>\n",
       "      <td>...</td>\n",
       "      <td>...</td>\n",
       "      <td>...</td>\n",
       "      <td>...</td>\n",
       "      <td>...</td>\n",
       "      <td>...</td>\n",
       "    </tr>\n",
       "    <tr>\n",
       "      <th>104688</th>\n",
       "      <td>30976738</td>\n",
       "      <td>750.0</td>\n",
       "      <td>2020-11-19 08:00</td>\n",
       "      <td>success</td>\n",
       "      <td>single</td>\n",
       "      <td>4831015</td>\n",
       "      <td>active</td>\n",
       "      <td>general</td>\n",
       "      <td>Spartacus</td>\n",
       "      <td>6684752</td>\n",
       "    </tr>\n",
       "    <tr>\n",
       "      <th>104689</th>\n",
       "      <td>31118199</td>\n",
       "      <td>750.0</td>\n",
       "      <td>2020-11-21 11:00</td>\n",
       "      <td>success</td>\n",
       "      <td>regular</td>\n",
       "      <td>4831015</td>\n",
       "      <td>active</td>\n",
       "      <td>general</td>\n",
       "      <td>Spartacus</td>\n",
       "      <td>6684752</td>\n",
       "    </tr>\n",
       "    <tr>\n",
       "      <th>104690</th>\n",
       "      <td>31118238</td>\n",
       "      <td>750.0</td>\n",
       "      <td>2020-11-26 08:00</td>\n",
       "      <td>success</td>\n",
       "      <td>single</td>\n",
       "      <td>4831015</td>\n",
       "      <td>active</td>\n",
       "      <td>general</td>\n",
       "      <td>Spartacus</td>\n",
       "      <td>6684752</td>\n",
       "    </tr>\n",
       "    <tr>\n",
       "      <th>104691</th>\n",
       "      <td>31600293</td>\n",
       "      <td>750.0</td>\n",
       "      <td>2020-12-03 08:00</td>\n",
       "      <td>success</td>\n",
       "      <td>regular</td>\n",
       "      <td>4831015</td>\n",
       "      <td>active</td>\n",
       "      <td>general</td>\n",
       "      <td>Spartacus</td>\n",
       "      <td>6684752</td>\n",
       "    </tr>\n",
       "    <tr>\n",
       "      <th>104692</th>\n",
       "      <td>31697896</td>\n",
       "      <td>750.0</td>\n",
       "      <td>2020-12-05 11:00</td>\n",
       "      <td>success</td>\n",
       "      <td>regular</td>\n",
       "      <td>4831015</td>\n",
       "      <td>active</td>\n",
       "      <td>general</td>\n",
       "      <td>Spartacus</td>\n",
       "      <td>6684752</td>\n",
       "    </tr>\n",
       "  </tbody>\n",
       "</table>\n",
       "<p>104693 rows × 10 columns</p>\n",
       "</div>"
      ],
      "text/plain": [
       "        workout_id   cost          start_at   status workout_schedule_type  \\\n",
       "0         30793909    NaN  2020-11-13 12:45  success                 trial   \n",
       "1         31123309  750.0  2020-11-21 13:00  success               regular   \n",
       "2         31412167  750.0  2020-11-28 13:00  success               regular   \n",
       "3         31703605  750.0  2020-12-05 13:00  success               regular   \n",
       "4         26904500    NaN  2020-08-06 18:20  success                 trial   \n",
       "...            ...    ...               ...      ...                   ...   \n",
       "104688    30976738  750.0  2020-11-19 08:00  success                single   \n",
       "104689    31118199  750.0  2020-11-21 11:00  success               regular   \n",
       "104690    31118238  750.0  2020-11-26 08:00  success                single   \n",
       "104691    31600293  750.0  2020-12-03 08:00  success               regular   \n",
       "104692    31697896  750.0  2020-12-05 11:00  success               regular   \n",
       "\n",
       "        client_id client_status workout_type trainer_department  trainer_id  \n",
       "0           22034           NaN      general              Sales    10722051  \n",
       "1           22034           new      general          Spartacus      940642  \n",
       "2           22034           new      general          Spartacus      940642  \n",
       "3           22034        active      general          Spartacus      940642  \n",
       "4           88101           NaN      general              Sales     3826530  \n",
       "...           ...           ...          ...                ...         ...  \n",
       "104688    4831015        active      general          Spartacus     6684752  \n",
       "104689    4831015        active      general          Spartacus     6684752  \n",
       "104690    4831015        active      general          Spartacus     6684752  \n",
       "104691    4831015        active      general          Spartacus     6684752  \n",
       "104692    4831015        active      general          Spartacus     6684752  \n",
       "\n",
       "[104693 rows x 10 columns]"
      ]
     },
     "execution_count": 2,
     "metadata": {},
     "output_type": "execute_result"
    }
   ],
   "source": [
    "workouts = pd.read_csv('workouts.csv') # подключимся к данным по тренировкам\n",
    "\n",
    "workouts"
   ]
  },
  {
   "cell_type": "code",
   "execution_count": 3,
   "metadata": {
    "id": "LkmLXYpE_fq8",
    "outputId": "a21ee4ed-3be2-415d-a072-5406e354d60c"
   },
   "outputs": [
    {
     "data": {
      "text/html": [
       "<div>\n",
       "<style scoped>\n",
       "    .dataframe tbody tr th:only-of-type {\n",
       "        vertical-align: middle;\n",
       "    }\n",
       "\n",
       "    .dataframe tbody tr th {\n",
       "        vertical-align: top;\n",
       "    }\n",
       "\n",
       "    .dataframe thead th {\n",
       "        text-align: right;\n",
       "    }\n",
       "</style>\n",
       "<table border=\"1\" class=\"dataframe\">\n",
       "  <thead>\n",
       "    <tr style=\"text-align: right;\">\n",
       "      <th></th>\n",
       "      <th>user_id</th>\n",
       "      <th>payment_id</th>\n",
       "      <th>workout_type</th>\n",
       "      <th>amount</th>\n",
       "      <th>payment_date</th>\n",
       "    </tr>\n",
       "  </thead>\n",
       "  <tbody>\n",
       "    <tr>\n",
       "      <th>0</th>\n",
       "      <td>132815</td>\n",
       "      <td>1535249</td>\n",
       "      <td>general</td>\n",
       "      <td>10337.768848</td>\n",
       "      <td>2020-01-30 15:03:59</td>\n",
       "    </tr>\n",
       "    <tr>\n",
       "      <th>1</th>\n",
       "      <td>165987</td>\n",
       "      <td>2395447</td>\n",
       "      <td>general</td>\n",
       "      <td>9711.925350</td>\n",
       "      <td>2020-08-18 21:59:09</td>\n",
       "    </tr>\n",
       "    <tr>\n",
       "      <th>2</th>\n",
       "      <td>17364</td>\n",
       "      <td>2641443</td>\n",
       "      <td>general</td>\n",
       "      <td>8951.474487</td>\n",
       "      <td>2020-10-12 11:55:00</td>\n",
       "    </tr>\n",
       "    <tr>\n",
       "      <th>3</th>\n",
       "      <td>148617</td>\n",
       "      <td>2402771</td>\n",
       "      <td>general</td>\n",
       "      <td>9981.884731</td>\n",
       "      <td>2020-08-20 21:30:27</td>\n",
       "    </tr>\n",
       "    <tr>\n",
       "      <th>4</th>\n",
       "      <td>175413</td>\n",
       "      <td>2035719</td>\n",
       "      <td>general</td>\n",
       "      <td>8848.691858</td>\n",
       "      <td>2020-05-22 20:10:55</td>\n",
       "    </tr>\n",
       "    <tr>\n",
       "      <th>...</th>\n",
       "      <td>...</td>\n",
       "      <td>...</td>\n",
       "      <td>...</td>\n",
       "      <td>...</td>\n",
       "      <td>...</td>\n",
       "    </tr>\n",
       "    <tr>\n",
       "      <th>11357</th>\n",
       "      <td>2356776</td>\n",
       "      <td>2619479</td>\n",
       "      <td>general</td>\n",
       "      <td>10437.768848</td>\n",
       "      <td>2020-10-07 13:01:24</td>\n",
       "    </tr>\n",
       "    <tr>\n",
       "      <th>11358</th>\n",
       "      <td>4632805</td>\n",
       "      <td>1718214</td>\n",
       "      <td>general</td>\n",
       "      <td>9051.474487</td>\n",
       "      <td>2020-03-22 23:26:54</td>\n",
       "    </tr>\n",
       "    <tr>\n",
       "      <th>11359</th>\n",
       "      <td>1708369</td>\n",
       "      <td>1643206</td>\n",
       "      <td>general</td>\n",
       "      <td>8358.327307</td>\n",
       "      <td>2020-03-02 16:44:36</td>\n",
       "    </tr>\n",
       "    <tr>\n",
       "      <th>11360</th>\n",
       "      <td>3448563</td>\n",
       "      <td>2101873</td>\n",
       "      <td>general</td>\n",
       "      <td>9909.902803</td>\n",
       "      <td>2020-06-06 12:25:38</td>\n",
       "    </tr>\n",
       "    <tr>\n",
       "      <th>11361</th>\n",
       "      <td>5364182</td>\n",
       "      <td>-1408259</td>\n",
       "      <td>general</td>\n",
       "      <td>8258.327307</td>\n",
       "      <td>2020-10-09 12:03:02</td>\n",
       "    </tr>\n",
       "  </tbody>\n",
       "</table>\n",
       "<p>11362 rows × 5 columns</p>\n",
       "</div>"
      ],
      "text/plain": [
       "       user_id  payment_id workout_type        amount        payment_date\n",
       "0       132815     1535249      general  10337.768848 2020-01-30 15:03:59\n",
       "1       165987     2395447      general   9711.925350 2020-08-18 21:59:09\n",
       "2        17364     2641443      general   8951.474487 2020-10-12 11:55:00\n",
       "3       148617     2402771      general   9981.884731 2020-08-20 21:30:27\n",
       "4       175413     2035719      general   8848.691858 2020-05-22 20:10:55\n",
       "...        ...         ...          ...           ...                 ...\n",
       "11357  2356776     2619479      general  10437.768848 2020-10-07 13:01:24\n",
       "11358  4632805     1718214      general   9051.474487 2020-03-22 23:26:54\n",
       "11359  1708369     1643206      general   8358.327307 2020-03-02 16:44:36\n",
       "11360  3448563     2101873      general   9909.902803 2020-06-06 12:25:38\n",
       "11361  5364182    -1408259      general   8258.327307 2020-10-09 12:03:02\n",
       "\n",
       "[11362 rows x 5 columns]"
      ]
     },
     "execution_count": 3,
     "metadata": {},
     "output_type": "execute_result"
    }
   ],
   "source": [
    "payments = pd.read_excel('payments.xlsx') # подключимся к данным по оплатам\n",
    "\n",
    "payments"
   ]
  },
  {
   "cell_type": "code",
   "execution_count": 4,
   "metadata": {
    "id": "RYuuE4HR_fq_",
    "outputId": "6da91d43-2c4d-4dc1-a86e-a5d27f3951e2",
    "scrolled": true
   },
   "outputs": [
    {
     "name": "stdout",
     "output_type": "stream",
     "text": [
      "<class 'pandas.core.frame.DataFrame'>\n",
      "RangeIndex: 104693 entries, 0 to 104692\n",
      "Data columns (total 10 columns):\n",
      " #   Column                 Non-Null Count   Dtype  \n",
      "---  ------                 --------------   -----  \n",
      " 0   workout_id             104693 non-null  int64  \n",
      " 1   cost                   100012 non-null  float64\n",
      " 2   start_at               104693 non-null  object \n",
      " 3   status                 104693 non-null  object \n",
      " 4   workout_schedule_type  104693 non-null  object \n",
      " 5   client_id              104693 non-null  int64  \n",
      " 6   client_status          100362 non-null  object \n",
      " 7   workout_type           104693 non-null  object \n",
      " 8   trainer_department     104676 non-null  object \n",
      " 9   trainer_id             104693 non-null  int64  \n",
      "dtypes: float64(1), int64(3), object(6)\n",
      "memory usage: 8.0+ MB\n"
     ]
    }
   ],
   "source": [
    "workouts.info()"
   ]
  },
  {
   "cell_type": "code",
   "execution_count": 5,
   "metadata": {
    "id": "A4KIcnon_frA",
    "outputId": "3a03d3a3-0163-4b97-a870-ad344b6094af"
   },
   "outputs": [
    {
     "data": {
      "text/html": [
       "<div>\n",
       "<style scoped>\n",
       "    .dataframe tbody tr th:only-of-type {\n",
       "        vertical-align: middle;\n",
       "    }\n",
       "\n",
       "    .dataframe tbody tr th {\n",
       "        vertical-align: top;\n",
       "    }\n",
       "\n",
       "    .dataframe thead th {\n",
       "        text-align: right;\n",
       "    }\n",
       "</style>\n",
       "<table border=\"1\" class=\"dataframe\">\n",
       "  <thead>\n",
       "    <tr style=\"text-align: right;\">\n",
       "      <th></th>\n",
       "      <th>workout_id</th>\n",
       "      <th>cost</th>\n",
       "      <th>start_at</th>\n",
       "      <th>status</th>\n",
       "      <th>workout_schedule_type</th>\n",
       "      <th>client_id</th>\n",
       "      <th>client_status</th>\n",
       "      <th>workout_type</th>\n",
       "      <th>trainer_department</th>\n",
       "      <th>trainer_id</th>\n",
       "    </tr>\n",
       "  </thead>\n",
       "  <tbody>\n",
       "    <tr>\n",
       "      <th>count</th>\n",
       "      <td>1.046930e+05</td>\n",
       "      <td>100012.000000</td>\n",
       "      <td>104693</td>\n",
       "      <td>104693</td>\n",
       "      <td>104693</td>\n",
       "      <td>1.046930e+05</td>\n",
       "      <td>100362</td>\n",
       "      <td>104693</td>\n",
       "      <td>104676</td>\n",
       "      <td>1.046930e+05</td>\n",
       "    </tr>\n",
       "    <tr>\n",
       "      <th>unique</th>\n",
       "      <td>NaN</td>\n",
       "      <td>NaN</td>\n",
       "      <td>8740</td>\n",
       "      <td>1</td>\n",
       "      <td>3</td>\n",
       "      <td>NaN</td>\n",
       "      <td>3</td>\n",
       "      <td>3</td>\n",
       "      <td>7</td>\n",
       "      <td>NaN</td>\n",
       "    </tr>\n",
       "    <tr>\n",
       "      <th>top</th>\n",
       "      <td>NaN</td>\n",
       "      <td>NaN</td>\n",
       "      <td>2020-10-01 19:00</td>\n",
       "      <td>success</td>\n",
       "      <td>regular</td>\n",
       "      <td>NaN</td>\n",
       "      <td>active</td>\n",
       "      <td>general</td>\n",
       "      <td>Spartacus</td>\n",
       "      <td>NaN</td>\n",
       "    </tr>\n",
       "    <tr>\n",
       "      <th>freq</th>\n",
       "      <td>NaN</td>\n",
       "      <td>NaN</td>\n",
       "      <td>70</td>\n",
       "      <td>104693</td>\n",
       "      <td>73901</td>\n",
       "      <td>NaN</td>\n",
       "      <td>81532</td>\n",
       "      <td>103492</td>\n",
       "      <td>81358</td>\n",
       "      <td>NaN</td>\n",
       "    </tr>\n",
       "    <tr>\n",
       "      <th>mean</th>\n",
       "      <td>2.592737e+07</td>\n",
       "      <td>820.706515</td>\n",
       "      <td>NaN</td>\n",
       "      <td>NaN</td>\n",
       "      <td>NaN</td>\n",
       "      <td>1.820669e+06</td>\n",
       "      <td>NaN</td>\n",
       "      <td>NaN</td>\n",
       "      <td>NaN</td>\n",
       "      <td>5.199522e+06</td>\n",
       "    </tr>\n",
       "    <tr>\n",
       "      <th>std</th>\n",
       "      <td>3.476346e+06</td>\n",
       "      <td>168.409824</td>\n",
       "      <td>NaN</td>\n",
       "      <td>NaN</td>\n",
       "      <td>NaN</td>\n",
       "      <td>1.267018e+06</td>\n",
       "      <td>NaN</td>\n",
       "      <td>NaN</td>\n",
       "      <td>NaN</td>\n",
       "      <td>2.790988e+06</td>\n",
       "    </tr>\n",
       "    <tr>\n",
       "      <th>min</th>\n",
       "      <td>1.814899e+07</td>\n",
       "      <td>500.000000</td>\n",
       "      <td>NaN</td>\n",
       "      <td>NaN</td>\n",
       "      <td>NaN</td>\n",
       "      <td>1.850000e+02</td>\n",
       "      <td>NaN</td>\n",
       "      <td>NaN</td>\n",
       "      <td>NaN</td>\n",
       "      <td>1.308000e+03</td>\n",
       "    </tr>\n",
       "    <tr>\n",
       "      <th>25%</th>\n",
       "      <td>2.309901e+07</td>\n",
       "      <td>750.000000</td>\n",
       "      <td>NaN</td>\n",
       "      <td>NaN</td>\n",
       "      <td>NaN</td>\n",
       "      <td>5.848360e+05</td>\n",
       "      <td>NaN</td>\n",
       "      <td>NaN</td>\n",
       "      <td>NaN</td>\n",
       "      <td>2.741049e+06</td>\n",
       "    </tr>\n",
       "    <tr>\n",
       "      <th>50%</th>\n",
       "      <td>2.592387e+07</td>\n",
       "      <td>750.000000</td>\n",
       "      <td>NaN</td>\n",
       "      <td>NaN</td>\n",
       "      <td>NaN</td>\n",
       "      <td>1.795450e+06</td>\n",
       "      <td>NaN</td>\n",
       "      <td>NaN</td>\n",
       "      <td>NaN</td>\n",
       "      <td>5.704876e+06</td>\n",
       "    </tr>\n",
       "    <tr>\n",
       "      <th>75%</th>\n",
       "      <td>2.897875e+07</td>\n",
       "      <td>1000.000000</td>\n",
       "      <td>NaN</td>\n",
       "      <td>NaN</td>\n",
       "      <td>NaN</td>\n",
       "      <td>2.746134e+06</td>\n",
       "      <td>NaN</td>\n",
       "      <td>NaN</td>\n",
       "      <td>NaN</td>\n",
       "      <td>7.358521e+06</td>\n",
       "    </tr>\n",
       "    <tr>\n",
       "      <th>max</th>\n",
       "      <td>3.179589e+07</td>\n",
       "      <td>1500.000000</td>\n",
       "      <td>NaN</td>\n",
       "      <td>NaN</td>\n",
       "      <td>NaN</td>\n",
       "      <td>5.511356e+06</td>\n",
       "      <td>NaN</td>\n",
       "      <td>NaN</td>\n",
       "      <td>NaN</td>\n",
       "      <td>1.118784e+07</td>\n",
       "    </tr>\n",
       "  </tbody>\n",
       "</table>\n",
       "</div>"
      ],
      "text/plain": [
       "          workout_id           cost          start_at   status  \\\n",
       "count   1.046930e+05  100012.000000            104693   104693   \n",
       "unique           NaN            NaN              8740        1   \n",
       "top              NaN            NaN  2020-10-01 19:00  success   \n",
       "freq             NaN            NaN                70   104693   \n",
       "mean    2.592737e+07     820.706515               NaN      NaN   \n",
       "std     3.476346e+06     168.409824               NaN      NaN   \n",
       "min     1.814899e+07     500.000000               NaN      NaN   \n",
       "25%     2.309901e+07     750.000000               NaN      NaN   \n",
       "50%     2.592387e+07     750.000000               NaN      NaN   \n",
       "75%     2.897875e+07    1000.000000               NaN      NaN   \n",
       "max     3.179589e+07    1500.000000               NaN      NaN   \n",
       "\n",
       "       workout_schedule_type     client_id client_status workout_type  \\\n",
       "count                 104693  1.046930e+05        100362       104693   \n",
       "unique                     3           NaN             3            3   \n",
       "top                  regular           NaN        active      general   \n",
       "freq                   73901           NaN         81532       103492   \n",
       "mean                     NaN  1.820669e+06           NaN          NaN   \n",
       "std                      NaN  1.267018e+06           NaN          NaN   \n",
       "min                      NaN  1.850000e+02           NaN          NaN   \n",
       "25%                      NaN  5.848360e+05           NaN          NaN   \n",
       "50%                      NaN  1.795450e+06           NaN          NaN   \n",
       "75%                      NaN  2.746134e+06           NaN          NaN   \n",
       "max                      NaN  5.511356e+06           NaN          NaN   \n",
       "\n",
       "       trainer_department    trainer_id  \n",
       "count              104676  1.046930e+05  \n",
       "unique                  7           NaN  \n",
       "top             Spartacus           NaN  \n",
       "freq                81358           NaN  \n",
       "mean                  NaN  5.199522e+06  \n",
       "std                   NaN  2.790988e+06  \n",
       "min                   NaN  1.308000e+03  \n",
       "25%                   NaN  2.741049e+06  \n",
       "50%                   NaN  5.704876e+06  \n",
       "75%                   NaN  7.358521e+06  \n",
       "max                   NaN  1.118784e+07  "
      ]
     },
     "execution_count": 5,
     "metadata": {},
     "output_type": "execute_result"
    }
   ],
   "source": [
    "workouts.describe(include = 'all')"
   ]
  },
  {
   "cell_type": "code",
   "execution_count": 6,
   "metadata": {
    "id": "gSZ6g4wC_frA"
   },
   "outputs": [],
   "source": [
    "users = pd.read_excel('users.xlsx')"
   ]
  },
  {
   "cell_type": "code",
   "execution_count": 7,
   "metadata": {
    "id": "VnM3gNKA_frB",
    "outputId": "ddd9b47a-818f-40dd-b9f0-672140b85473"
   },
   "outputs": [
    {
     "data": {
      "text/html": [
       "<div>\n",
       "<style scoped>\n",
       "    .dataframe tbody tr th:only-of-type {\n",
       "        vertical-align: middle;\n",
       "    }\n",
       "\n",
       "    .dataframe tbody tr th {\n",
       "        vertical-align: top;\n",
       "    }\n",
       "\n",
       "    .dataframe thead th {\n",
       "        text-align: right;\n",
       "    }\n",
       "</style>\n",
       "<table border=\"1\" class=\"dataframe\">\n",
       "  <thead>\n",
       "    <tr style=\"text-align: right;\">\n",
       "      <th></th>\n",
       "      <th>age</th>\n",
       "      <th>workouts_successful</th>\n",
       "      <th>workouts_total</th>\n",
       "      <th>months_active</th>\n",
       "      <th>user_id</th>\n",
       "    </tr>\n",
       "  </thead>\n",
       "  <tbody>\n",
       "    <tr>\n",
       "      <th>count</th>\n",
       "      <td>2281.000000</td>\n",
       "      <td>4273.000000</td>\n",
       "      <td>4273.000000</td>\n",
       "      <td>4273.000000</td>\n",
       "      <td>4.273000e+03</td>\n",
       "    </tr>\n",
       "    <tr>\n",
       "      <th>mean</th>\n",
       "      <td>26.205612</td>\n",
       "      <td>24.324362</td>\n",
       "      <td>27.961619</td>\n",
       "      <td>4.783524</td>\n",
       "      <td>1.851355e+06</td>\n",
       "    </tr>\n",
       "    <tr>\n",
       "      <th>std</th>\n",
       "      <td>8.859393</td>\n",
       "      <td>22.898277</td>\n",
       "      <td>24.362613</td>\n",
       "      <td>3.153411</td>\n",
       "      <td>1.280512e+06</td>\n",
       "    </tr>\n",
       "    <tr>\n",
       "      <th>min</th>\n",
       "      <td>4.000000</td>\n",
       "      <td>1.000000</td>\n",
       "      <td>1.000000</td>\n",
       "      <td>1.000000</td>\n",
       "      <td>1.850000e+02</td>\n",
       "    </tr>\n",
       "    <tr>\n",
       "      <th>25%</th>\n",
       "      <td>20.000000</td>\n",
       "      <td>8.000000</td>\n",
       "      <td>10.000000</td>\n",
       "      <td>2.000000</td>\n",
       "      <td>6.210670e+05</td>\n",
       "    </tr>\n",
       "    <tr>\n",
       "      <th>50%</th>\n",
       "      <td>26.000000</td>\n",
       "      <td>16.000000</td>\n",
       "      <td>20.000000</td>\n",
       "      <td>4.000000</td>\n",
       "      <td>1.837866e+06</td>\n",
       "    </tr>\n",
       "    <tr>\n",
       "      <th>75%</th>\n",
       "      <td>32.000000</td>\n",
       "      <td>33.000000</td>\n",
       "      <td>38.000000</td>\n",
       "      <td>7.000000</td>\n",
       "      <td>2.786936e+06</td>\n",
       "    </tr>\n",
       "    <tr>\n",
       "      <th>max</th>\n",
       "      <td>68.000000</td>\n",
       "      <td>263.000000</td>\n",
       "      <td>285.000000</td>\n",
       "      <td>38.000000</td>\n",
       "      <td>5.511356e+06</td>\n",
       "    </tr>\n",
       "  </tbody>\n",
       "</table>\n",
       "</div>"
      ],
      "text/plain": [
       "               age  workouts_successful  workouts_total  months_active  \\\n",
       "count  2281.000000          4273.000000     4273.000000    4273.000000   \n",
       "mean     26.205612            24.324362       27.961619       4.783524   \n",
       "std       8.859393            22.898277       24.362613       3.153411   \n",
       "min       4.000000             1.000000        1.000000       1.000000   \n",
       "25%      20.000000             8.000000       10.000000       2.000000   \n",
       "50%      26.000000            16.000000       20.000000       4.000000   \n",
       "75%      32.000000            33.000000       38.000000       7.000000   \n",
       "max      68.000000           263.000000      285.000000      38.000000   \n",
       "\n",
       "            user_id  \n",
       "count  4.273000e+03  \n",
       "mean   1.851355e+06  \n",
       "std    1.280512e+06  \n",
       "min    1.850000e+02  \n",
       "25%    6.210670e+05  \n",
       "50%    1.837866e+06  \n",
       "75%    2.786936e+06  \n",
       "max    5.511356e+06  "
      ]
     },
     "execution_count": 7,
     "metadata": {},
     "output_type": "execute_result"
    }
   ],
   "source": [
    "users.describe()"
   ]
  },
  {
   "cell_type": "markdown",
   "metadata": {
    "id": "BL6qs3PE_frK"
   },
   "source": [
    "**Задача:**\n",
    "\n",
    "Сеть фитнес-клубов, для которых мы проводим аналитику, хочет увеличить конверсию в первую оплату и выстроить работу отдела продаж, основываясь на данных, а не только интуиции сейлз-менеджеров.\n",
    "\n",
    "\n",
    "Руководитель сети хочет посмотреть, как быстро совершают покупку те, кто пришли на бесплатную тренировку, то есть время конверсии в первую оплату. \n",
    "\n",
    "Можно смотреть на эту метрику, чтобы понять, когда человека пора «догревать»  промокодами и звонить ему, а когда надо просто подождать пока он сам оплатит.\n",
    "\n",
    "\n",
    "\n",
    "#### Что нужно для решения этой задачи\n",
    "\n",
    "1. Перевести даты оплат из строкового формата\n",
    "2. Сгруппировать данные и агрегировать их \n",
    "3. Объединить несколько таблиц в одну\n",
    "4. Создать новые колонки и произвести расчет\n"
   ]
  },
  {
   "cell_type": "markdown",
   "metadata": {
    "id": "e9YcaxY3_frK"
   },
   "source": [
    "\n",
    "**Мы хотим рассчитать среднее время конверсии из бесплатной тренировки в платную**\n",
    "\n",
    "➡️Нужно перевести даты оплат и тренировок из строкового формата в `datetime`, чтобы мы смогли оперировать ими как датами"
   ]
  },
  {
   "cell_type": "code",
   "execution_count": 9,
   "metadata": {
    "id": "s6KdaZ-R_frK"
   },
   "outputs": [],
   "source": [
    "payments['payment_date'] = pd.to_datetime(payments['payment_date'])\n"
   ]
  },
  {
   "cell_type": "code",
   "execution_count": 10,
   "metadata": {
    "id": "rKL90pNz_frL"
   },
   "outputs": [],
   "source": [
    "workouts['start_at'] = pd.to_datetime(workouts['start_at'])"
   ]
  },
  {
   "cell_type": "markdown",
   "metadata": {
    "id": "GdYfdiAG_frL"
   },
   "source": [
    "✅Мы перевели все необходимые даты, которые будем сравнивать, в нужный формат. \n",
    "\n",
    "Теперь нам нужно научиться группировать данные, потому что клиенты нашей сети покупают много абонементов и ходят на тренировки по нескольку лет. А мы хотим исследовать только их самый ранний опыт первых покупок и посещений."
   ]
  },
  {
   "cell_type": "markdown",
   "metadata": {
    "id": "ptcBJF3Z_frQ"
   },
   "source": [
    "\n",
    "➡️Нужно получить дату первой бесплатной тренировки и дату первой оплаты. То есть найти минимальную дату оплаты и тренировки для каждого пользователя.\n",
    "\n",
    "#### Как посчитать дату первой оплаты?\n",
    "\n",
    "1. создадим переменную, в которой будет датафрейм только с первыми оплатами\n",
    "2. вызовем `.groupby()` для `user_id`\n",
    "3. укажем, что хотим посчитать минимальное значение по колонке `payment_date`"
   ]
  },
  {
   "cell_type": "code",
   "execution_count": 13,
   "metadata": {
    "id": "MbiC4Iyo_frQ",
    "outputId": "3205b389-1114-4949-9de5-b192ac75e6a3"
   },
   "outputs": [
    {
     "data": {
      "text/plain": [
       "user_id\n",
       "185       2020-04-02 22:31:46\n",
       "1455      2020-02-03 16:50:18\n",
       "1558      2020-05-12 21:47:55\n",
       "5312      2020-02-21 21:00:00\n",
       "5804      2020-01-15 11:00:00\n",
       "                  ...        \n",
       "5460780   2020-01-20 19:14:44\n",
       "5468992   2020-02-20 15:23:47\n",
       "5477981   2020-09-03 15:41:26\n",
       "5498391   2020-04-19 13:54:14\n",
       "5511356   2020-04-28 12:28:45\n",
       "Name: payment_date, Length: 4271, dtype: datetime64[ns]"
      ]
     },
     "execution_count": 13,
     "metadata": {},
     "output_type": "execute_result"
    }
   ],
   "source": [
    "# создали датафрейм, где каждому пользователю соответствует его дата первой оплаты\n",
    "first_payments =  payments.groupby('user_id')['payment_date'].min() \n",
    "first_payments"
   ]
  },
  {
   "cell_type": "markdown",
   "metadata": {
    "id": "A8ETGpax_frQ"
   },
   "source": [
    "Теперь нам нужно вычислить самый дату первой тренировки для каждого пользователя. "
   ]
  },
  {
   "cell_type": "markdown",
   "metadata": {
    "id": "FELBf1jQ_frQ"
   },
   "source": [
    "Вычислим дату первой тренировки для каждого клиента:\n",
    "\n",
    "1. Создаем переменную `first_workout`\n",
    "\n",
    "2. Используем метод `.groupby()`, в качестве аргумента передайте `id` клиента\n",
    "\n",
    "3. В квадратных скобках определим по какому столбцу мы будем группировать: мы ищем дату первой тренировки клиента\n",
    "\n",
    "4. Используем функцию `.min()`, чтобы получить самую раннюю дату"
   ]
  },
  {
   "cell_type": "code",
   "execution_count": 14,
   "metadata": {
    "id": "N_FH7OO6_frR"
   },
   "outputs": [],
   "source": [
    "first_workout = workouts.groupby('client_id')['start_at'].min()"
   ]
  },
  {
   "cell_type": "code",
   "execution_count": 15,
   "metadata": {
    "id": "joTdzMml_frR",
    "outputId": "27e9fd08-e87f-4dfc-ca79-a52b951bbcc9"
   },
   "outputs": [
    {
     "data": {
      "text/plain": [
       "client_id\n",
       "185       2020-02-25 20:20:00\n",
       "1455      2020-01-28 16:20:00\n",
       "1558      2020-05-12 21:00:00\n",
       "5312      2020-02-21 20:20:00\n",
       "5804      2020-01-15 10:20:00\n",
       "                  ...        \n",
       "5460780   2020-01-20 14:20:00\n",
       "5468992   2020-02-20 11:00:00\n",
       "5477981   2020-09-03 15:00:00\n",
       "5498391   2020-04-19 13:00:00\n",
       "5511356   2020-04-28 11:00:00\n",
       "Name: start_at, Length: 4273, dtype: datetime64[ns]"
      ]
     },
     "execution_count": 15,
     "metadata": {},
     "output_type": "execute_result"
    }
   ],
   "source": [
    "first_workout"
   ]
  },
  {
   "cell_type": "markdown",
   "metadata": {
    "id": "ZTmFvlHk_frR"
   },
   "source": [
    "✅Вычислили дату первой оплаты и дату первой тренировки!\n",
    "\n",
    "Теперь нам нужно научиться объединять таблицы, чтобы первые оплаты и первые тренировки оказались в одном датафрейме."
   ]
  },
  {
   "cell_type": "markdown",
   "metadata": {
    "id": "tGSbQKB0_frW"
   },
   "source": [
    "➡️Нам нужно объединить в один датафрейм два получившихся датафрейма `first_payments` и `first_workout`"
   ]
  },
  {
   "cell_type": "code",
   "execution_count": 17,
   "metadata": {
    "id": "vY6i-Mgs_frW"
   },
   "outputs": [],
   "source": [
    "first_workout = first_workout.reset_index() \n",
    "first_payments = first_payments.reset_index()"
   ]
  },
  {
   "cell_type": "code",
   "execution_count": 18,
   "metadata": {
    "id": "h0rC_RUp_frX",
    "outputId": "b2862386-c46f-4b60-e679-dffadd5bfd56"
   },
   "outputs": [
    {
     "data": {
      "text/html": [
       "<div>\n",
       "<style scoped>\n",
       "    .dataframe tbody tr th:only-of-type {\n",
       "        vertical-align: middle;\n",
       "    }\n",
       "\n",
       "    .dataframe tbody tr th {\n",
       "        vertical-align: top;\n",
       "    }\n",
       "\n",
       "    .dataframe thead th {\n",
       "        text-align: right;\n",
       "    }\n",
       "</style>\n",
       "<table border=\"1\" class=\"dataframe\">\n",
       "  <thead>\n",
       "    <tr style=\"text-align: right;\">\n",
       "      <th></th>\n",
       "      <th>user_id</th>\n",
       "      <th>payment_date</th>\n",
       "      <th>client_id</th>\n",
       "      <th>start_at</th>\n",
       "    </tr>\n",
       "  </thead>\n",
       "  <tbody>\n",
       "    <tr>\n",
       "      <th>0</th>\n",
       "      <td>185</td>\n",
       "      <td>2020-04-02 22:31:46</td>\n",
       "      <td>185</td>\n",
       "      <td>2020-02-25 20:20:00</td>\n",
       "    </tr>\n",
       "    <tr>\n",
       "      <th>1</th>\n",
       "      <td>1455</td>\n",
       "      <td>2020-02-03 16:50:18</td>\n",
       "      <td>1455</td>\n",
       "      <td>2020-01-28 16:20:00</td>\n",
       "    </tr>\n",
       "    <tr>\n",
       "      <th>2</th>\n",
       "      <td>1558</td>\n",
       "      <td>2020-05-12 21:47:55</td>\n",
       "      <td>1558</td>\n",
       "      <td>2020-05-12 21:00:00</td>\n",
       "    </tr>\n",
       "    <tr>\n",
       "      <th>3</th>\n",
       "      <td>5312</td>\n",
       "      <td>2020-02-21 21:00:00</td>\n",
       "      <td>5312</td>\n",
       "      <td>2020-02-21 20:20:00</td>\n",
       "    </tr>\n",
       "    <tr>\n",
       "      <th>4</th>\n",
       "      <td>5804</td>\n",
       "      <td>2020-01-15 11:00:00</td>\n",
       "      <td>5804</td>\n",
       "      <td>2020-01-15 10:20:00</td>\n",
       "    </tr>\n",
       "    <tr>\n",
       "      <th>...</th>\n",
       "      <td>...</td>\n",
       "      <td>...</td>\n",
       "      <td>...</td>\n",
       "      <td>...</td>\n",
       "    </tr>\n",
       "    <tr>\n",
       "      <th>4266</th>\n",
       "      <td>5460780</td>\n",
       "      <td>2020-01-20 19:14:44</td>\n",
       "      <td>5460780</td>\n",
       "      <td>2020-01-20 14:20:00</td>\n",
       "    </tr>\n",
       "    <tr>\n",
       "      <th>4267</th>\n",
       "      <td>5468992</td>\n",
       "      <td>2020-02-20 15:23:47</td>\n",
       "      <td>5468992</td>\n",
       "      <td>2020-02-20 11:00:00</td>\n",
       "    </tr>\n",
       "    <tr>\n",
       "      <th>4268</th>\n",
       "      <td>5477981</td>\n",
       "      <td>2020-09-03 15:41:26</td>\n",
       "      <td>5477981</td>\n",
       "      <td>2020-09-03 15:00:00</td>\n",
       "    </tr>\n",
       "    <tr>\n",
       "      <th>4269</th>\n",
       "      <td>5498391</td>\n",
       "      <td>2020-04-19 13:54:14</td>\n",
       "      <td>5498391</td>\n",
       "      <td>2020-04-19 13:00:00</td>\n",
       "    </tr>\n",
       "    <tr>\n",
       "      <th>4270</th>\n",
       "      <td>5511356</td>\n",
       "      <td>2020-04-28 12:28:45</td>\n",
       "      <td>5511356</td>\n",
       "      <td>2020-04-28 11:00:00</td>\n",
       "    </tr>\n",
       "  </tbody>\n",
       "</table>\n",
       "<p>4271 rows × 4 columns</p>\n",
       "</div>"
      ],
      "text/plain": [
       "      user_id        payment_date  client_id            start_at\n",
       "0         185 2020-04-02 22:31:46        185 2020-02-25 20:20:00\n",
       "1        1455 2020-02-03 16:50:18       1455 2020-01-28 16:20:00\n",
       "2        1558 2020-05-12 21:47:55       1558 2020-05-12 21:00:00\n",
       "3        5312 2020-02-21 21:00:00       5312 2020-02-21 20:20:00\n",
       "4        5804 2020-01-15 11:00:00       5804 2020-01-15 10:20:00\n",
       "...       ...                 ...        ...                 ...\n",
       "4266  5460780 2020-01-20 19:14:44    5460780 2020-01-20 14:20:00\n",
       "4267  5468992 2020-02-20 15:23:47    5468992 2020-02-20 11:00:00\n",
       "4268  5477981 2020-09-03 15:41:26    5477981 2020-09-03 15:00:00\n",
       "4269  5498391 2020-04-19 13:54:14    5498391 2020-04-19 13:00:00\n",
       "4270  5511356 2020-04-28 12:28:45    5511356 2020-04-28 11:00:00\n",
       "\n",
       "[4271 rows x 4 columns]"
      ]
     },
     "execution_count": 18,
     "metadata": {},
     "output_type": "execute_result"
    }
   ],
   "source": [
    "user_info = pd.merge(first_payments, first_workout,\n",
    "            how = 'inner',\n",
    "            left_on = 'user_id', right_on= 'client_id')\n",
    "user_info"
   ]
  },
  {
   "cell_type": "markdown",
   "metadata": {
    "id": "Urwx1yui_frX"
   },
   "source": [
    "✅Создали объединенный датафрейм с бесплатными тренировками и первыми оплатами\n",
    "\n",
    "Теперь нам нужно научить добавлять новые колонки, чтобы добавить данные о времени конверсии для каждого клиента."
   ]
  },
  {
   "cell_type": "markdown",
   "metadata": {
    "id": "j4J9Xz2k_frX"
   },
   "source": [
    "<center><img src=\"https://cdn.skyeng.ru/resources/image/skills/python/lesson1-1/3.png\" /> "
   ]
  },
  {
   "cell_type": "markdown",
   "metadata": {
    "id": "x2blyeM6_frZ"
   },
   "source": [
    "➡️Нужно создать новую колонку с разницей между датами первого занятия и первой оплаты в новом объединенном датасете"
   ]
  },
  {
   "cell_type": "markdown",
   "metadata": {
    "id": "1yBPDSUl_frZ"
   },
   "source": [
    "Создайте новую колонку с разницей между датами первого занятия и первой оплаты в новом объединенном датасете\n",
    "\n",
    "1. Назовем колонку `date_diff`\n",
    "\n",
    "2. Вычтем из даты первой оплаты дату первого занятия"
   ]
  },
  {
   "cell_type": "code",
   "execution_count": 19,
   "metadata": {
    "id": "d76TNd-2_fra"
   },
   "outputs": [],
   "source": [
    "user_info['date_diff'] = user_info['payment_date'] - user_info['start_at']"
   ]
  },
  {
   "cell_type": "code",
   "execution_count": 20,
   "metadata": {
    "id": "UzFcfrSp_fra",
    "outputId": "d3e4144e-cad7-4a79-b9cd-a2a04355b51f"
   },
   "outputs": [
    {
     "data": {
      "text/html": [
       "<div>\n",
       "<style scoped>\n",
       "    .dataframe tbody tr th:only-of-type {\n",
       "        vertical-align: middle;\n",
       "    }\n",
       "\n",
       "    .dataframe tbody tr th {\n",
       "        vertical-align: top;\n",
       "    }\n",
       "\n",
       "    .dataframe thead th {\n",
       "        text-align: right;\n",
       "    }\n",
       "</style>\n",
       "<table border=\"1\" class=\"dataframe\">\n",
       "  <thead>\n",
       "    <tr style=\"text-align: right;\">\n",
       "      <th></th>\n",
       "      <th>user_id</th>\n",
       "      <th>payment_date</th>\n",
       "      <th>client_id</th>\n",
       "      <th>start_at</th>\n",
       "      <th>date_diff</th>\n",
       "    </tr>\n",
       "  </thead>\n",
       "  <tbody>\n",
       "    <tr>\n",
       "      <th>0</th>\n",
       "      <td>185</td>\n",
       "      <td>2020-04-02 22:31:46</td>\n",
       "      <td>185</td>\n",
       "      <td>2020-02-25 20:20:00</td>\n",
       "      <td>37 days 02:11:46</td>\n",
       "    </tr>\n",
       "    <tr>\n",
       "      <th>1</th>\n",
       "      <td>1455</td>\n",
       "      <td>2020-02-03 16:50:18</td>\n",
       "      <td>1455</td>\n",
       "      <td>2020-01-28 16:20:00</td>\n",
       "      <td>6 days 00:30:18</td>\n",
       "    </tr>\n",
       "    <tr>\n",
       "      <th>2</th>\n",
       "      <td>1558</td>\n",
       "      <td>2020-05-12 21:47:55</td>\n",
       "      <td>1558</td>\n",
       "      <td>2020-05-12 21:00:00</td>\n",
       "      <td>0 days 00:47:55</td>\n",
       "    </tr>\n",
       "    <tr>\n",
       "      <th>3</th>\n",
       "      <td>5312</td>\n",
       "      <td>2020-02-21 21:00:00</td>\n",
       "      <td>5312</td>\n",
       "      <td>2020-02-21 20:20:00</td>\n",
       "      <td>0 days 00:40:00</td>\n",
       "    </tr>\n",
       "    <tr>\n",
       "      <th>4</th>\n",
       "      <td>5804</td>\n",
       "      <td>2020-01-15 11:00:00</td>\n",
       "      <td>5804</td>\n",
       "      <td>2020-01-15 10:20:00</td>\n",
       "      <td>0 days 00:40:00</td>\n",
       "    </tr>\n",
       "  </tbody>\n",
       "</table>\n",
       "</div>"
      ],
      "text/plain": [
       "   user_id        payment_date  client_id            start_at        date_diff\n",
       "0      185 2020-04-02 22:31:46        185 2020-02-25 20:20:00 37 days 02:11:46\n",
       "1     1455 2020-02-03 16:50:18       1455 2020-01-28 16:20:00  6 days 00:30:18\n",
       "2     1558 2020-05-12 21:47:55       1558 2020-05-12 21:00:00  0 days 00:47:55\n",
       "3     5312 2020-02-21 21:00:00       5312 2020-02-21 20:20:00  0 days 00:40:00\n",
       "4     5804 2020-01-15 11:00:00       5804 2020-01-15 10:20:00  0 days 00:40:00"
      ]
     },
     "execution_count": 20,
     "metadata": {},
     "output_type": "execute_result"
    }
   ],
   "source": [
    "user_info.head()"
   ]
  },
  {
   "cell_type": "markdown",
   "metadata": {
    "id": "GugLV3hG_fra"
   },
   "source": [
    "✅Мы выяснили для каждого клиента разницу между датами бесплатной тренировки и первой оплаты\n",
    "\n",
    "➡️Посчитаем среднее значение по колонке"
   ]
  },
  {
   "cell_type": "code",
   "execution_count": 21,
   "metadata": {
    "id": "crm_IMfn_fra",
    "outputId": "6e08e668-5907-4052-eaef-17c8bafac3b4"
   },
   "outputs": [
    {
     "data": {
      "text/plain": [
       "count                          4271\n",
       "mean      3 days 12:46:27.490049168\n",
       "std      18 days 05:36:00.119182893\n",
       "min                 0 days 00:03:31\n",
       "25%                 0 days 00:33:14\n",
       "50%                 0 days 00:41:56\n",
       "75%                 0 days 02:51:00\n",
       "max               253 days 02:18:37\n",
       "Name: date_diff, dtype: object"
      ]
     },
     "execution_count": 21,
     "metadata": {},
     "output_type": "execute_result"
    }
   ],
   "source": [
    "user_info['date_diff'].describe()"
   ]
  },
  {
   "cell_type": "markdown",
   "metadata": {
    "id": "sluBWVhD_fra"
   },
   "source": [
    "✅Наша задача готова, мы знаем среднее время от бесплатной тренировки до оплаты и теперь можем отправить руководителю свои рекомендации!"
   ]
  },
  {
   "cell_type": "markdown",
   "metadata": {
    "id": "E6TgEaCw_fra"
   },
   "source": [
    "<center><img src=\"https://cdn.skyeng.ru/resources/image/skills/python/lesson1-1/3.png\" /> "
   ]
  },
  {
   "cell_type": "markdown",
   "metadata": {
    "id": "Kdg7MBUw_fra"
   },
   "source": [
    "Одной из наших рекомендаций может быть проведение исследования самых медленных клиентов, чтобы понять, по каким причинам они откладывают покупку и почему они все же ее совершают. Зная это, мы сможем перестроть процесс взаимодействия с медленными клиентами, доводя до покупки большее число тех, кто пришел на бесплатную тренировку. \n",
    "\n",
    "А значит, нам нужно получить список самых медленных клиентов. Это можно сделать с помощью сортировки. "
   ]
  },
  {
   "cell_type": "code",
   "execution_count": 23,
   "metadata": {
    "id": "Co6o3xdf_frc",
    "outputId": "ad746a91-2765-4e18-d2b4-93ac27e3de34"
   },
   "outputs": [
    {
     "data": {
      "text/html": [
       "<div>\n",
       "<style scoped>\n",
       "    .dataframe tbody tr th:only-of-type {\n",
       "        vertical-align: middle;\n",
       "    }\n",
       "\n",
       "    .dataframe tbody tr th {\n",
       "        vertical-align: top;\n",
       "    }\n",
       "\n",
       "    .dataframe thead th {\n",
       "        text-align: right;\n",
       "    }\n",
       "</style>\n",
       "<table border=\"1\" class=\"dataframe\">\n",
       "  <thead>\n",
       "    <tr style=\"text-align: right;\">\n",
       "      <th></th>\n",
       "      <th>user_id</th>\n",
       "      <th>payment_date</th>\n",
       "      <th>client_id</th>\n",
       "      <th>start_at</th>\n",
       "      <th>date_diff</th>\n",
       "    </tr>\n",
       "  </thead>\n",
       "  <tbody>\n",
       "    <tr>\n",
       "      <th>3324</th>\n",
       "      <td>2898097</td>\n",
       "      <td>2020-11-29 17:58:37</td>\n",
       "      <td>2898097</td>\n",
       "      <td>2020-03-21 15:40:00</td>\n",
       "      <td>253 days 02:18:37</td>\n",
       "    </tr>\n",
       "    <tr>\n",
       "      <th>2939</th>\n",
       "      <td>2512783</td>\n",
       "      <td>2020-09-29 18:46:35</td>\n",
       "      <td>2512783</td>\n",
       "      <td>2020-01-20 17:40:00</td>\n",
       "      <td>253 days 01:06:35</td>\n",
       "    </tr>\n",
       "    <tr>\n",
       "      <th>2837</th>\n",
       "      <td>2437438</td>\n",
       "      <td>2020-09-10 13:28:32</td>\n",
       "      <td>2437438</td>\n",
       "      <td>2020-01-06 13:00:00</td>\n",
       "      <td>248 days 00:28:32</td>\n",
       "    </tr>\n",
       "    <tr>\n",
       "      <th>2151</th>\n",
       "      <td>1851287</td>\n",
       "      <td>2020-10-31 14:07:05</td>\n",
       "      <td>1851287</td>\n",
       "      <td>2020-02-28 15:00:00</td>\n",
       "      <td>245 days 23:07:05</td>\n",
       "    </tr>\n",
       "    <tr>\n",
       "      <th>2805</th>\n",
       "      <td>2410208</td>\n",
       "      <td>2020-11-12 21:08:31</td>\n",
       "      <td>2410208</td>\n",
       "      <td>2020-03-19 18:20:00</td>\n",
       "      <td>238 days 02:48:31</td>\n",
       "    </tr>\n",
       "    <tr>\n",
       "      <th>...</th>\n",
       "      <td>...</td>\n",
       "      <td>...</td>\n",
       "      <td>...</td>\n",
       "      <td>...</td>\n",
       "      <td>...</td>\n",
       "    </tr>\n",
       "    <tr>\n",
       "      <th>2340</th>\n",
       "      <td>2019192</td>\n",
       "      <td>2020-02-03 16:30:57</td>\n",
       "      <td>2019192</td>\n",
       "      <td>2020-02-03 16:20:00</td>\n",
       "      <td>0 days 00:10:57</td>\n",
       "    </tr>\n",
       "    <tr>\n",
       "      <th>2552</th>\n",
       "      <td>2207471</td>\n",
       "      <td>2020-03-07 13:10:26</td>\n",
       "      <td>2207471</td>\n",
       "      <td>2020-03-07 13:00:00</td>\n",
       "      <td>0 days 00:10:26</td>\n",
       "    </tr>\n",
       "    <tr>\n",
       "      <th>1876</th>\n",
       "      <td>1573941</td>\n",
       "      <td>2020-04-16 17:09:27</td>\n",
       "      <td>1573941</td>\n",
       "      <td>2020-04-16 17:00:00</td>\n",
       "      <td>0 days 00:09:27</td>\n",
       "    </tr>\n",
       "    <tr>\n",
       "      <th>1537</th>\n",
       "      <td>1129927</td>\n",
       "      <td>2020-04-15 19:08:12</td>\n",
       "      <td>1129927</td>\n",
       "      <td>2020-04-15 19:00:00</td>\n",
       "      <td>0 days 00:08:12</td>\n",
       "    </tr>\n",
       "    <tr>\n",
       "      <th>3871</th>\n",
       "      <td>3596322</td>\n",
       "      <td>2020-04-12 13:03:31</td>\n",
       "      <td>3596322</td>\n",
       "      <td>2020-04-12 13:00:00</td>\n",
       "      <td>0 days 00:03:31</td>\n",
       "    </tr>\n",
       "  </tbody>\n",
       "</table>\n",
       "<p>4271 rows × 5 columns</p>\n",
       "</div>"
      ],
      "text/plain": [
       "      user_id        payment_date  client_id            start_at  \\\n",
       "3324  2898097 2020-11-29 17:58:37    2898097 2020-03-21 15:40:00   \n",
       "2939  2512783 2020-09-29 18:46:35    2512783 2020-01-20 17:40:00   \n",
       "2837  2437438 2020-09-10 13:28:32    2437438 2020-01-06 13:00:00   \n",
       "2151  1851287 2020-10-31 14:07:05    1851287 2020-02-28 15:00:00   \n",
       "2805  2410208 2020-11-12 21:08:31    2410208 2020-03-19 18:20:00   \n",
       "...       ...                 ...        ...                 ...   \n",
       "2340  2019192 2020-02-03 16:30:57    2019192 2020-02-03 16:20:00   \n",
       "2552  2207471 2020-03-07 13:10:26    2207471 2020-03-07 13:00:00   \n",
       "1876  1573941 2020-04-16 17:09:27    1573941 2020-04-16 17:00:00   \n",
       "1537  1129927 2020-04-15 19:08:12    1129927 2020-04-15 19:00:00   \n",
       "3871  3596322 2020-04-12 13:03:31    3596322 2020-04-12 13:00:00   \n",
       "\n",
       "             date_diff  \n",
       "3324 253 days 02:18:37  \n",
       "2939 253 days 01:06:35  \n",
       "2837 248 days 00:28:32  \n",
       "2151 245 days 23:07:05  \n",
       "2805 238 days 02:48:31  \n",
       "...                ...  \n",
       "2340   0 days 00:10:57  \n",
       "2552   0 days 00:10:26  \n",
       "1876   0 days 00:09:27  \n",
       "1537   0 days 00:08:12  \n",
       "3871   0 days 00:03:31  \n",
       "\n",
       "[4271 rows x 5 columns]"
      ]
     },
     "execution_count": 23,
     "metadata": {},
     "output_type": "execute_result"
    }
   ],
   "source": [
    "user_info.sort_values(by='date_diff',\n",
    "                ascending=False)"
   ]
  },
  {
   "cell_type": "code",
   "execution_count": 26,
   "metadata": {
    "id": "mK-k2Fop_frd"
   },
   "outputs": [
    {
     "data": {
      "text/plain": [
       "Timedelta('3 days 12:46:27.490049168')"
      ]
     },
     "execution_count": 26,
     "metadata": {},
     "output_type": "execute_result"
    }
   ],
   "source": [
    "# Среднее количество дней от вводного занятия до платежа\n",
    "mean_value = user_info['date_diff'].mean()\n",
    "mean_value"
   ]
  },
  {
   "cell_type": "markdown",
   "metadata": {
    "id": "OatksoLi_frd"
   },
   "source": [
    "### Задача:\n",
    "\n",
    "Мы хотим создать новый столбец, который промаркерует всех пользователей как `Быстрый`, если с даты вводной тренировки до даты оплаты прошло меньше времени, чем в среднем, и `Медленный`в противном случае.\n"
   ]
  },
  {
   "cell_type": "code",
   "execution_count": 27,
   "metadata": {
    "id": "VvcLigbb_frd"
   },
   "outputs": [],
   "source": [
    "def checher(datediff_in_days):\n",
    "    if datediff_in_days <= mean_value:\n",
    "        return 'Быстрый'\n",
    "    else:\n",
    "        return 'Медленный'"
   ]
  },
  {
   "cell_type": "code",
   "execution_count": 28,
   "metadata": {
    "id": "TV5XATwR_frd"
   },
   "outputs": [],
   "source": [
    "#используем нашу функцию\n",
    "user_info['client_type'] = user_info['date_diff'].apply(checher)"
   ]
  },
  {
   "cell_type": "code",
   "execution_count": 29,
   "metadata": {
    "id": "Vr93jHp-_fre"
   },
   "outputs": [
    {
     "data": {
      "text/html": [
       "<div>\n",
       "<style scoped>\n",
       "    .dataframe tbody tr th:only-of-type {\n",
       "        vertical-align: middle;\n",
       "    }\n",
       "\n",
       "    .dataframe tbody tr th {\n",
       "        vertical-align: top;\n",
       "    }\n",
       "\n",
       "    .dataframe thead th {\n",
       "        text-align: right;\n",
       "    }\n",
       "</style>\n",
       "<table border=\"1\" class=\"dataframe\">\n",
       "  <thead>\n",
       "    <tr style=\"text-align: right;\">\n",
       "      <th></th>\n",
       "      <th>user_id</th>\n",
       "      <th>payment_date</th>\n",
       "      <th>client_id</th>\n",
       "      <th>start_at</th>\n",
       "      <th>date_diff</th>\n",
       "      <th>client_type</th>\n",
       "    </tr>\n",
       "  </thead>\n",
       "  <tbody>\n",
       "    <tr>\n",
       "      <th>0</th>\n",
       "      <td>185</td>\n",
       "      <td>2020-04-02 22:31:46</td>\n",
       "      <td>185</td>\n",
       "      <td>2020-02-25 20:20:00</td>\n",
       "      <td>37 days 02:11:46</td>\n",
       "      <td>Медленный</td>\n",
       "    </tr>\n",
       "    <tr>\n",
       "      <th>1</th>\n",
       "      <td>1455</td>\n",
       "      <td>2020-02-03 16:50:18</td>\n",
       "      <td>1455</td>\n",
       "      <td>2020-01-28 16:20:00</td>\n",
       "      <td>6 days 00:30:18</td>\n",
       "      <td>Медленный</td>\n",
       "    </tr>\n",
       "    <tr>\n",
       "      <th>2</th>\n",
       "      <td>1558</td>\n",
       "      <td>2020-05-12 21:47:55</td>\n",
       "      <td>1558</td>\n",
       "      <td>2020-05-12 21:00:00</td>\n",
       "      <td>0 days 00:47:55</td>\n",
       "      <td>Быстрый</td>\n",
       "    </tr>\n",
       "    <tr>\n",
       "      <th>3</th>\n",
       "      <td>5312</td>\n",
       "      <td>2020-02-21 21:00:00</td>\n",
       "      <td>5312</td>\n",
       "      <td>2020-02-21 20:20:00</td>\n",
       "      <td>0 days 00:40:00</td>\n",
       "      <td>Быстрый</td>\n",
       "    </tr>\n",
       "    <tr>\n",
       "      <th>4</th>\n",
       "      <td>5804</td>\n",
       "      <td>2020-01-15 11:00:00</td>\n",
       "      <td>5804</td>\n",
       "      <td>2020-01-15 10:20:00</td>\n",
       "      <td>0 days 00:40:00</td>\n",
       "      <td>Быстрый</td>\n",
       "    </tr>\n",
       "  </tbody>\n",
       "</table>\n",
       "</div>"
      ],
      "text/plain": [
       "   user_id        payment_date  client_id            start_at  \\\n",
       "0      185 2020-04-02 22:31:46        185 2020-02-25 20:20:00   \n",
       "1     1455 2020-02-03 16:50:18       1455 2020-01-28 16:20:00   \n",
       "2     1558 2020-05-12 21:47:55       1558 2020-05-12 21:00:00   \n",
       "3     5312 2020-02-21 21:00:00       5312 2020-02-21 20:20:00   \n",
       "4     5804 2020-01-15 11:00:00       5804 2020-01-15 10:20:00   \n",
       "\n",
       "         date_diff client_type  \n",
       "0 37 days 02:11:46   Медленный  \n",
       "1  6 days 00:30:18   Медленный  \n",
       "2  0 days 00:47:55     Быстрый  \n",
       "3  0 days 00:40:00     Быстрый  \n",
       "4  0 days 00:40:00     Быстрый  "
      ]
     },
     "execution_count": 29,
     "metadata": {},
     "output_type": "execute_result"
    }
   ],
   "source": [
    "user_info.head()\n"
   ]
  },
  {
   "cell_type": "markdown",
   "metadata": {
    "id": "BrgQq4c6_fre"
   },
   "source": [
    "Выгрузим наш итоговый датасет и все исходные данные, с которыми мы работали, в один файл"
   ]
  },
  {
   "cell_type": "code",
   "execution_count": 50,
   "metadata": {
    "id": "FluMq1Qv_fre"
   },
   "outputs": [],
   "source": [
    "writer = pd.ExcelWriter('all_data.xlsx')\n",
    "\n",
    "user_info.to_excel(writer, sheet_name='user_info')\n",
    "payments.to_excel(writer, sheet_name='payments')\n",
    "users.to_excel(writer, sheet_name='users')\n",
    "workouts.to_excel(writer, sheet_name='workouts')\n",
    "\n",
    "writer.save()"
   ]
  }
 ],
 "metadata": {
  "colab": {
   "collapsed_sections": [
    "oValRoTY_fq_",
    "weXrwnPi_fq_",
    "WilLhrGT_frB",
    "mM2ZrJR3_frB",
    "DzE9knMU_frB",
    "KDweGcty_frD",
    "f0GoYHDR_frE",
    "THVcQvrD_frG",
    "wiELJ3Lp_frH",
    "vsI99sYJ_frI",
    "EliCJpr0_frI",
    "uhunOa1b_frK",
    "BL6qs3PE_frK",
    "9TCgnvkq_frK",
    "e9YcaxY3_frK",
    "zHFk2qBI_frL",
    "UCrYpD1z_frP",
    "ptcBJF3Z_frQ",
    "3yqPBkAQ_frR",
    "-U4nodhM_frR",
    "n42KggfV_frS",
    "tGSbQKB0_frW",
    "HzmnpGF5_frX",
    "x2blyeM6_frZ",
    "yoxxX7av_frb",
    "fdHlVTON_frd",
    "OatksoLi_frd",
    "lmS9ohee_fre",
    "4MkfoVjK_fre"
   ],
   "name": "Python_2.1_lesson.ipynb",
   "provenance": []
  },
  "kernelspec": {
   "display_name": "Python 3 (ipykernel)",
   "language": "python",
   "name": "python3"
  },
  "language_info": {
   "codemirror_mode": {
    "name": "ipython",
    "version": 3
   },
   "file_extension": ".py",
   "mimetype": "text/x-python",
   "name": "python",
   "nbconvert_exporter": "python",
   "pygments_lexer": "ipython3",
   "version": "3.9.7"
  }
 },
 "nbformat": 4,
 "nbformat_minor": 1
}
